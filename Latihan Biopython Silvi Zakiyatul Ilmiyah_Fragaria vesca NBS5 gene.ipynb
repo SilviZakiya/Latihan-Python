{
 "cells": [
  {
   "cell_type": "code",
   "execution_count": 2,
   "id": "08ce878a-6cc9-42cb-80f2-3488c93ac889",
   "metadata": {},
   "outputs": [
    {
     "name": "stdout",
     "output_type": "stream",
     "text": [
      "{'Count': '93669', 'RetMax': '20', 'RetStart': '0', 'IdList': ['1387915601', '2173878279', '2173878277', '2173878275', '2124580005', '2100073707', '2098052207', '2098052121', '2098052035', '2098051949', '2097121395', '2096374669', '2096374128', '2074793613', '1850548267', '1850548253', '1850548251', '1850548248', '1850548238', '1850548225'], 'TranslationSet': [{'From': 'Fragaria vesca', 'To': '\"Fragaria vesca\"[Organism] OR Fragaria vesca[All Fields]'}], 'TranslationStack': [{'Term': '\"Fragaria vesca\"[Organism]', 'Field': 'Organism', 'Count': '88996', 'Explode': 'Y'}, {'Term': 'Fragaria vesca[All Fields]', 'Field': 'All Fields', 'Count': '93669', 'Explode': 'N'}, 'OR', 'GROUP'], 'QueryTranslation': '\"Fragaria vesca\"[Organism] OR Fragaria vesca[All Fields]'}\n"
     ]
    }
   ],
   "source": [
    "from Bio import Entrez\n",
    "Entrez.email = \"localuser@localhost.localdomain\" \n",
    "\n",
    "#creating handle\n",
    "handle = Entrez.esearch(db=\"nuccore\", term=\"Fragaria vesca\")\n",
    "record = Entrez.read(handle)\n",
    "print(record)\n",
    "handle.close()"
   ]
  },
  {
   "cell_type": "code",
   "execution_count": 4,
   "id": "5f0d87bd-26f1-42df-befd-c1d9b3c14a24",
   "metadata": {},
   "outputs": [
    {
     "name": "stdout",
     "output_type": "stream",
     "text": [
      "{'Count': '2', 'RetMax': '2', 'RetStart': '0', 'IdList': ['2500000005', '387936221'], 'TranslationSet': [{'From': 'Fragaria vesca', 'To': '\"Fragaria vesca\"[Organism] OR Fragaria vesca[All Fields]'}], 'TranslationStack': [{'Term': '\"Fragaria vesca\"[Organism]', 'Field': 'Organism', 'Count': '88996', 'Explode': 'Y'}, {'Term': 'Fragaria vesca[All Fields]', 'Field': 'All Fields', 'Count': '93669', 'Explode': 'N'}, 'OR', 'GROUP', {'Term': 'NBS5[All Fields]', 'Field': 'All Fields', 'Count': '20', 'Explode': 'N'}, 'AND', 'GROUP'], 'QueryTranslation': '(\"Fragaria vesca\"[Organism] OR Fragaria vesca[All Fields]) AND NBS5[All Fields]'}\n"
     ]
    }
   ],
   "source": [
    "from Bio import Entrez\n",
    "Entrez.email = \"localuser@localhost.localdomain\" #Mandatory\n",
    "\n",
    "#creating handle\n",
    "handle = Entrez.esearch(db=\"nuccore\", term=\"Fragaria vesca NBS5\")\n",
    "record = Entrez.read(handle)\n",
    "print(record)\n",
    "handle.close() "
   ]
  },
  {
   "cell_type": "code",
   "execution_count": 5,
   "id": "eab7ce57-9cc2-4246-af3d-64fcc93b1321",
   "metadata": {},
   "outputs": [
    {
     "name": "stdout",
     "output_type": "stream",
     "text": [
      "LOCUS       JN116725                 978 bp    mRNA    linear   PLN 18-AUG-2013\n",
      "DEFINITION  Fragaria vesca NBS protein (NBS5) mRNA, partial cds.\n",
      "ACCESSION   JN116725\n",
      "VERSION     JN116725.1\n",
      "KEYWORDS    .\n",
      "SOURCE      Fragaria vesca (wild strawberry)\n",
      "  ORGANISM  Fragaria vesca\n",
      "            Eukaryota; Viridiplantae; Streptophyta; Embryophyta; Tracheophyta;\n",
      "            Spermatophyta; Magnoliopsida; eudicotyledons; Gunneridae;\n",
      "            Pentapetalae; rosids; fabids; Rosales; Rosaceae; Rosoideae;\n",
      "            Potentilleae; Fragariinae; Fragaria.\n",
      "REFERENCE   1  (bases 1 to 978)\n",
      "  AUTHORS   Li,J., Zhang,Q.Y., Gao,Z.H., Wang,F., Duan,K., Ye,Z.W. and Gao,Q.H.\n",
      "  TITLE     Genome-wide identification and comparative expression analysis of\n",
      "            NBS-LRR-encoding genes upon Colletotrichum gloeosporioides\n",
      "            infection in two ecotypes of Fragaria vesca\n",
      "  JOURNAL   Gene 527 (1), 215-227 (2013)\n",
      "   PUBMED   23806759\n",
      "REFERENCE   2  (bases 1 to 978)\n",
      "  AUTHORS   Li,J., Zhang,Q.-Y., Li,Y. and Gao,Q.-H.\n",
      "  TITLE     Direct Submission\n",
      "  JOURNAL   Submitted (13-JUN-2011) ShangHai Academy of Agricultural Sciences,\n",
      "            Forest and Fruit Tree Research Institute, 1018 Jingqi Road,\n",
      "            Shanghai 201403, China\n",
      "FEATURES             Location/Qualifiers\n",
      "     source          1..978\n",
      "                     /organism=\"Fragaria vesca\"\n",
      "                     /mol_type=\"mRNA\"\n",
      "                     /db_xref=\"taxon:57918\"\n",
      "                     /PCR_primers=\"fwd_name: fvnbs1f, fwd_seq:\n",
      "                     tgtgcctgaagaagattatg, fwd_name: fvnbs2f, fwd_seq:\n",
      "                     ggttttcgcagccgtttgtt, fwd_name: fvnbs3f, fwd_seq:\n",
      "                     cacccaactatgcttcttcca, fwd_name: fvnbs4f, fwd_seq:\n",
      "                     ggctgggacattgttcgt, fwd_name: fvnbs5f, fwd_seq:\n",
      "                     tcacagtatccagccctt, fwd_name: fvnbs6f, fwd_seq:\n",
      "                     accctggaaagcgtagtaga, rev_name: fvnbs1r, rev_seq:\n",
      "                     tgagttccaacctctctaag, rev_name: fvnbs2r, rev_seq:\n",
      "                     agagcagcttgtggtatcct, rev_name: fvnbs3r, rev_seq:\n",
      "                     atccttcctcaggcagttct, rev_name: fvnbs4r, rev_seq:\n",
      "                     gcttccgttgttgatggt, rev_name: fvnbs5r, rev_seq:\n",
      "                     gaacggtaacccagtaga, rev_name: fvnbs6r, rev_seq:\n",
      "                     tcaaagcccccaaaccaa\"\n",
      "     gene            <1..>978\n",
      "                     /gene=\"NBS5\"\n",
      "     CDS             <1..>978\n",
      "                     /gene=\"NBS5\"\n",
      "                     /codon_start=2\n",
      "                     /product=\"NBS protein\"\n",
      "                     /protein_id=\"AFK10172.1\"\n",
      "                     /translation=\"HSIQPLEKNYAWELFSKKAFSTCHNKICPPEFEPLAWELVEKCE\n",
      "                     GLPLAIVALGGVMSSKKSLDQWSEVYNSLNWHLSNNPLLKPVRSILLLSFNDLPYRLK\n",
      "                     HCFLYCSLFPEDYVIINKKVIRLWIAEGFVEQVKGLTLEEVAEGYLMELVSRSMLQVR\n",
      "                     YASWNPACKMHDLIRELALSIGEKERFCAVYDGREGMEETKARRLSVQTVEGELECCK\n",
      "                     GLSQLRSFLVFVTDVLSFSFSRKLASELQLLRVLDLENAPIVKLPDELMYLFNLKYLN\n",
      "                     LRGTLVKELPEAIRKLRNLQTLDFRYTNVEVLPRGISKLINLRHLLGYRS\"\n",
      "ORIGIN      \n",
      "        1 tcacagtatc cagcccttgg aaaagaatta tgcatgggag cttttcagca agaaagcatt\n",
      "       61 ctctacttgt cataacaaaa tttgtccacc ggagtttgag ccgttagctt gggaacttgt\n",
      "      121 agaaaagtgt gaaggtcttc ctctggctat agtggcttta ggtggtgtta tgtcttctaa\n",
      "      181 gaagtcgttg gatcaatgga gcgaagtcta caacagctta aattggcatt tgagtaacaa\n",
      "      241 tccattgcta aaacctgttc gaagcatttt gttgcttagt tttaatgatt tgccatacag\n",
      "      301 actgaagcat tgtttcctct attgttcact tttcccagaa gactatgtga tcatcaataa\n",
      "      361 aaaagtcata agattgtgga ttgccgaagg atttgtcgaa caagtcaaag ggctcacact\n",
      "      421 agaagaagtt gcagagggat atcttatgga acttgtttcc cgtagtatgc tacaagtcag\n",
      "      481 gtatgctagt tggaatcctg catgtaagat gcatgatctt atacgtgagc ttgctctgtc\n",
      "      541 aataggagaa aaagaaagat tttgtgctgt atatgatggc agagaaggaa tggaagaaac\n",
      "      601 taaagcacgc cgtctgtcag ttcaaacagt tgaaggagaa cttgaatgtt gcaaaggtct\n",
      "      661 gtcacaactt cgttctttcc ttgtgtttgt cactgatgta ctttcattct ctttctcaag\n",
      "      721 aaaattggct tctgaacttc aacttttaag ggttttagat ttggagaatg ctccaattgt\n",
      "      781 taaacttcca gatgaactaa tgtacttatt caacttgaag tatctcaatt tgagaggaac\n",
      "      841 tctagttaag gaactcccag aagccatcag aaagcttcga aaccttcaaa cattggactt\n",
      "      901 cagatacaca aatgtagagg tacttccaag aggaatttcc aagttgatca acttgcgcca\n",
      "      961 tctactgggt taccgttc\n",
      "//\n",
      "\n",
      "\n"
     ]
    }
   ],
   "source": [
    "efetch_handle = Entrez.efetch(db=\"nuccore\", id=\"387936221\", rettype=\"gb\", retmode=\"text\")\n",
    "gbrecord = efetch_handle.read()\n",
    "print(gbrecord)"
   ]
  },
  {
   "cell_type": "code",
   "execution_count": 7,
   "id": "ff1c3aee-e1f9-48de-9869-bc1c5675e131",
   "metadata": {},
   "outputs": [
    {
     "name": "stdout",
     "output_type": "stream",
     "text": [
      "Fragaria vesca NBS5.gbkSaved\n"
     ]
    }
   ],
   "source": [
    "import os # import os module for OS utilities\n",
    "from Bio import Entrez\n",
    "Entrez.email = \"localuser@localhost.localdomain\"\n",
    "\n",
    "#creating EFetch handle\n",
    "filename = \"Fragaria vesca NBS5.gbk\"\n",
    "\n",
    "#creating EFetch handle\n",
    "if not os.path.isfile(filename):\n",
    "    # Downloading file...\n",
    "    efetch_handle = Entrez.efetch(db=\"nuccore\", id=\"387936221\", rettype=\"gb\", retmode=\"text\")\n",
    "    output_file_handle = open(filename, \"w\")\n",
    "    output_file_handle.write(efetch_handle.read())\n",
    "    output_file_handle.close()\n",
    "    efetch_handle.close()\n",
    "    print((str(filename)) + \"Saved\")\n",
    "else:\n",
    "    print((str(filename)) + \"is existing.File cannot be saved!\")\n"
   ]
  },
  {
   "cell_type": "code",
   "execution_count": 8,
   "id": "dee28585-4af5-49aa-80aa-22d703cc7a1d",
   "metadata": {},
   "outputs": [
    {
     "name": "stdout",
     "output_type": "stream",
     "text": [
      ">JN116725.1 Fragaria vesca NBS protein (NBS5) mRNA, partial cds\n",
      "TCACAGTATCCAGCCCTTGGAAAAGAATTATGCATGGGAGCTTTTCAGCAAGAAAGCATTCTCTACTTGT\n",
      "CATAACAAAATTTGTCCACCGGAGTTTGAGCCGTTAGCTTGGGAACTTGTAGAAAAGTGTGAAGGTCTTC\n",
      "CTCTGGCTATAGTGGCTTTAGGTGGTGTTATGTCTTCTAAGAAGTCGTTGGATCAATGGAGCGAAGTCTA\n",
      "CAACAGCTTAAATTGGCATTTGAGTAACAATCCATTGCTAAAACCTGTTCGAAGCATTTTGTTGCTTAGT\n",
      "TTTAATGATTTGCCATACAGACTGAAGCATTGTTTCCTCTATTGTTCACTTTTCCCAGAAGACTATGTGA\n",
      "TCATCAATAAAAAAGTCATAAGATTGTGGATTGCCGAAGGATTTGTCGAACAAGTCAAAGGGCTCACACT\n",
      "AGAAGAAGTTGCAGAGGGATATCTTATGGAACTTGTTTCCCGTAGTATGCTACAAGTCAGGTATGCTAGT\n",
      "TGGAATCCTGCATGTAAGATGCATGATCTTATACGTGAGCTTGCTCTGTCAATAGGAGAAAAAGAAAGAT\n",
      "TTTGTGCTGTATATGATGGCAGAGAAGGAATGGAAGAAACTAAAGCACGCCGTCTGTCAGTTCAAACAGT\n",
      "TGAAGGAGAACTTGAATGTTGCAAAGGTCTGTCACAACTTCGTTCTTTCCTTGTGTTTGTCACTGATGTA\n",
      "CTTTCATTCTCTTTCTCAAGAAAATTGGCTTCTGAACTTCAACTTTTAAGGGTTTTAGATTTGGAGAATG\n",
      "CTCCAATTGTTAAACTTCCAGATGAACTAATGTACTTATTCAACTTGAAGTATCTCAATTTGAGAGGAAC\n",
      "TCTAGTTAAGGAACTCCCAGAAGCCATCAGAAAGCTTCGAAACCTTCAAACATTGGACTTCAGATACACA\n",
      "AATGTAGAGGTACTTCCAAGAGGAATTTCCAAGTTGATCAACTTGCGCCATCTACTGGGTTACCGTTC\n",
      "\n",
      "\n"
     ]
    }
   ],
   "source": [
    "efetch_handle = Entrez.efetch(db=\"nuccore\", id=\"387936221\", rettype=\"fasta\", retmode=\"text\")\n",
    "fasta_record = efetch_handle.read()\n",
    "print(fasta_record)\n",
    "efetch_handle.close()"
   ]
  },
  {
   "cell_type": "code",
   "execution_count": 9,
   "id": "99bae670-30dc-4fcb-bf01-10098b3735d9",
   "metadata": {},
   "outputs": [
    {
     "name": "stdout",
     "output_type": "stream",
     "text": [
      "Fragaria vesca NBS5.fasSaved\n"
     ]
    }
   ],
   "source": [
    "import os # import os module for OS utilities\n",
    "from Bio import Entrez\n",
    "Entrez.email = \"localuser@localhost.localdomain\"\n",
    "\n",
    "#creating EFetch handle\n",
    "filename = \"Fragaria vesca NBS5.fas\"\n",
    "\n",
    "#creating EFetch handle\n",
    "if not os.path.isfile(filename):\n",
    "    # Downloading file...\n",
    "    efetch_handle = Entrez.efetch(db=\"nuccore\", id=\"387936221\", rettype=\"fasta\", retmode=\"text\")\n",
    "    output_file_handle = open(filename, \"w\")\n",
    "    output_file_handle.write(efetch_handle.read())\n",
    "    output_file_handle.close()\n",
    "    efetch_handle.close()\n",
    "    print((str(filename)) + \"Saved\")\n",
    "else:\n",
    "    print((str(filename)) + \"is existing.File cannot be saved!\")"
   ]
  },
  {
   "cell_type": "code",
   "execution_count": 10,
   "id": "311193e2-a1f0-4d2f-a29c-ecfe6f3b21c4",
   "metadata": {},
   "outputs": [],
   "source": [
    "import os # import os module for OS utilities\n",
    "from Bio import Entrez, SeqIO\n",
    "Entrez.email = \"localuser@localhost.localdomain\"\n",
    "\n",
    "GoI = \"cds\"\n",
    "\n",
    "for genome in SeqIO.parse(\"Fragaria vesca NBS5.gbk\",\"genbank\"):\n",
    "    for gene in genome.features:\n",
    "        if gene.type !=\"CDS\":\n",
    "            continue\n",
    "        if \"gene\" not in gene.qualifiers:\n",
    "            continue\n",
    "        if GoI not in gene.qualifiers[\"gene\"][0]:\n",
    "            continue\n",
    "    gene_seq = gene.extract(genome.seq)\n",
    "\n",
    "GoI_fasta = \">%s|%s\\n%s\" % (GoI, genome.description, gene_seq)\n",
    "with open (\"GoI_fasta.fasta\", \"w\") as f:\n",
    "    f.write(GoI_fasta)"
   ]
  },
  {
   "cell_type": "code",
   "execution_count": null,
   "id": "02cf1239-e512-492c-809c-928f72b1dc26",
   "metadata": {},
   "outputs": [],
   "source": []
  }
 ],
 "metadata": {
  "kernelspec": {
   "display_name": "Python 3 (ipykernel)",
   "language": "python",
   "name": "python3"
  },
  "language_info": {
   "codemirror_mode": {
    "name": "ipython",
    "version": 3
   },
   "file_extension": ".py",
   "mimetype": "text/x-python",
   "name": "python",
   "nbconvert_exporter": "python",
   "pygments_lexer": "ipython3",
   "version": "3.9.7"
  }
 },
 "nbformat": 4,
 "nbformat_minor": 5
}
